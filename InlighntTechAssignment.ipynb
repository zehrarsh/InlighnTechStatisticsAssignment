{
  "nbformat": 4,
  "nbformat_minor": 0,
  "metadata": {
    "colab": {
      "provenance": []
    },
    "kernelspec": {
      "name": "python3",
      "display_name": "Python 3"
    },
    "language_info": {
      "name": "python"
    }
  },
  "cells": [
    {
      "cell_type": "code",
      "execution_count": 1,
      "metadata": {
        "colab": {
          "base_uri": "https://localhost:8080/"
        },
        "id": "ITFPFkHUcKwz",
        "outputId": "6aa97fd7-cf80-48ae-dd79-a08c4bbd6f10"
      },
      "outputs": [
        {
          "output_type": "stream",
          "name": "stdout",
          "text": [
            "Mounted at /content/drive\n"
          ]
        }
      ],
      "source": [
        "from google.colab import drive\n",
        "drive.mount('/content/drive')"
      ]
    },
    {
      "cell_type": "code",
      "source": [
        "file_path='/content/drive/MyDrive/Salary Data.csv'"
      ],
      "metadata": {
        "id": "dJe3n5lycUNC"
      },
      "execution_count": 2,
      "outputs": []
    },
    {
      "cell_type": "code",
      "source": [
        "import numpy as np\n",
        "from scipy import stats\n",
        "import matplotlib.pyplot as plt\n",
        "import seaborn as sns\n",
        "import pandas as pd"
      ],
      "metadata": {
        "id": "N8yM1CdPcb1z"
      },
      "execution_count": 5,
      "outputs": []
    },
    {
      "cell_type": "code",
      "source": [
        "salary_data = pd.read_csv(file_path)"
      ],
      "metadata": {
        "id": "TeNqMhPLcpcW"
      },
      "execution_count": 6,
      "outputs": []
    },
    {
      "cell_type": "code",
      "source": [
        "# Clean column names and convert income to numeric\n",
        "salary_data.columns = ['Name', 'Monthly_Income']\n",
        "salary_data['Monthly_Income'] = pd.to_numeric(salary_data['Monthly_Income'], errors='coerce')"
      ],
      "metadata": {
        "id": "0ggPWhFHchc6"
      },
      "execution_count": 7,
      "outputs": []
    },
    {
      "cell_type": "code",
      "source": [
        "# Drop rows with missing income values\n",
        "salary_data.dropna(subset=['Monthly_Income'], inplace=True)"
      ],
      "metadata": {
        "id": "05Gw1WuLc8gH"
      },
      "execution_count": 8,
      "outputs": []
    },
    {
      "cell_type": "code",
      "source": [
        "# Task 1: Calculate statistics\n",
        "mean_income = salary_data['Monthly_Income'].mean()\n",
        "median_income = salary_data['Monthly_Income'].median()\n",
        "mode_income = salary_data['Monthly_Income'].mode()[0]\n",
        "percentiles = np.percentile(salary_data['Monthly_Income'], [25, 50, 75])\n",
        "q25, q50, q75 = percentiles"
      ],
      "metadata": {
        "id": "0VXhcjJBdAS7"
      },
      "execution_count": 10,
      "outputs": []
    },
    {
      "cell_type": "code",
      "source": [
        "# Task 2: Outlier detection using IQR\n",
        "IQR = q75 - q25\n",
        "lower_bound = q25 - 1.5 * IQR\n",
        "upper_bound = q75 + 1.5 * IQR"
      ],
      "metadata": {
        "id": "AEKfpMxhdOMT"
      },
      "execution_count": 11,
      "outputs": []
    },
    {
      "cell_type": "code",
      "source": [
        "outliers = salary_data[(salary_data['Monthly_Income'] < lower_bound) | (salary_data['Monthly_Income'] > upper_bound)]\n",
        "cleaned_data = salary_data[(salary_data['Monthly_Income'] >= lower_bound) & (salary_data['Monthly_Income'] <= upper_bound)]"
      ],
      "metadata": {
        "id": "9ZbJwiiudcuZ"
      },
      "execution_count": 12,
      "outputs": []
    },
    {
      "cell_type": "code",
      "source": [
        "plt.figure(figsize=(12, 6))"
      ],
      "metadata": {
        "colab": {
          "base_uri": "https://localhost:8080/",
          "height": 53
        },
        "id": "acL9reVTdnGv",
        "outputId": "9587bea7-fff7-415e-df3a-3be8dfc2a605"
      },
      "execution_count": 13,
      "outputs": [
        {
          "output_type": "execute_result",
          "data": {
            "text/plain": [
              "<Figure size 1200x600 with 0 Axes>"
            ]
          },
          "metadata": {},
          "execution_count": 13
        },
        {
          "output_type": "display_data",
          "data": {
            "text/plain": [
              "<Figure size 1200x600 with 0 Axes>"
            ]
          },
          "metadata": {}
        }
      ]
    },
    {
      "cell_type": "code",
      "source": [
        "# Before removing outliers\n",
        "plt.subplot(1, 2, 1)\n",
        "sns.boxplot(data=salary_data, y='Monthly_Income')\n",
        "plt.title('Before Outlier Removal')"
      ],
      "metadata": {
        "colab": {
          "base_uri": "https://localhost:8080/",
          "height": 466
        },
        "id": "1Q9H7meKdqxG",
        "outputId": "574753e3-4066-4849-9a14-671c0d53ecd2"
      },
      "execution_count": 14,
      "outputs": [
        {
          "output_type": "execute_result",
          "data": {
            "text/plain": [
              "Text(0.5, 1.0, 'Before Outlier Removal')"
            ]
          },
          "metadata": {},
          "execution_count": 14
        },
        {
          "output_type": "display_data",
          "data": {
            "text/plain": [
              "<Figure size 640x480 with 1 Axes>"
            ],
            "image/png": "[encoded data removed]"
          },
          "metadata": {}
        }
      ]
    },
    {
      "cell_type": "code",
      "source": [
        "# After removing outliers\n",
        "plt.subplot(1, 2, 2)\n",
        "sns.boxplot(data=cleaned_data, y='Monthly_Income')\n",
        "plt.title('After Outlier Removal')\n",
        "plt.tight_layout()\n",
        "plt.show()"
      ],
      "metadata": {
        "colab": {
          "base_uri": "https://localhost:8080/",
          "height": 487
        },
        "id": "lZTUHaE7dwrN",
        "outputId": "9ab07534-94a3-48ed-ac25-48d2cf42aa22"
      },
      "execution_count": 16,
      "outputs": [
        {
          "output_type": "display_data",
          "data": {
            "text/plain": [
              "<Figure size 640x480 with 1 Axes>"
            ],
            "image/png": "[encoded data removed]"
          },
          "metadata": {}
        }
      ]
    },
    {
      "cell_type": "code",
      "source": [
        " {\n",
        "    \"Mean\": mean_income,\n",
        "    \"Median\": median_income,\n",
        "    \"Mode\": mode_income,\n",
        "    \"25th Percentile\": q25,\n",
        "    \"50th Percentile\": q50,\n",
        "    \"75th Percentile\": q75,\n",
        "    \"Lower Bound\": lower_bound,\n",
        "    \"Upper Bound\": upper_bound,\n",
        "    \"Outliers\": outliers,\n",
        "    \"Cleaned Dataset\": cleaned_data\n",
        "}"
      ],
      "metadata": {
        "colab": {
          "base_uri": "https://localhost:8080/"
        },
        "id": "9-iG7v0Ad-PZ",
        "outputId": "d4d239ce-cde6-45ea-ef3c-de23be88057d"
      },
      "execution_count": 19,
      "outputs": [
        {
          "output_type": "execute_result",
          "data": {
            "text/plain": [
              "{'Mean': np.float64(1433928.5714285714),\n",
              " 'Median': 7000.0,\n",
              " 'Mode': np.int64(4000),\n",
              " '25th Percentile': np.float64(5500.0),\n",
              " '50th Percentile': np.float64(7000.0),\n",
              " '75th Percentile': np.float64(7750.0),\n",
              " 'Lower Bound': np.float64(2125.0),\n",
              " 'Upper Bound': np.float64(11125.0),\n",
              " 'Outliers':         Name  Monthly_Income\n",
              " 6  Elon Musk        10000000,\n",
              " 'Cleaned Dataset':     Name  Monthly_Income\n",
              " 0    Rob            5000\n",
              " 1  Rafiq            6000\n",
              " 2   Nina            4000\n",
              " 3  Sofia            7500\n",
              " 4  Mohan            8000\n",
              " 5    Tao            7000}"
            ]
          },
          "metadata": {},
          "execution_count": 19
        }
      ]
    }
  ]
}